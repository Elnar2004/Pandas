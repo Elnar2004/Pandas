{
  "metadata": {
    "kernelspec": {
      "name": "python",
      "display_name": "Python (Pyodide)",
      "language": "python"
    },
    "language_info": {
      "codemirror_mode": {
        "name": "python",
        "version": 3
      },
      "file_extension": ".py",
      "mimetype": "text/x-python",
      "name": "python",
      "nbconvert_exporter": "python",
      "pygments_lexer": "ipython3",
      "version": "3.8"
    }
  },
  "nbformat_minor": 4,
  "nbformat": 4,
  "cells": [
    {
      "cell_type": "code",
      "source": "import pandas as pd\n#List1\nlst = [['tom', 'reacher',25],['krish', 'pete', 30],\n    ['nick', 'wilson', 26], ['juli', 'williams', 22]]\ndf = pd.DataFrame(lst, columns=['FName','LName', 'Age'], dtype = float)     \nprint(df)",
      "metadata": {
        "trusted": true
      },
      "outputs": [
        {
          "name": "stderr",
          "text": "<ipython-input-63-e4293879006e>:5: FutureWarning: Could not cast to float64, falling back to object. This behavior is deprecated. In a future version, when a dtype is passed to 'DataFrame', either all columns will be cast to that dtype, or a TypeError will be raised.\n  df = pd.DataFrame(lst, columns=['FName','LName', 'Age'], dtype = float)\n",
          "output_type": "stream"
        },
        {
          "name": "stdout",
          "text": "   FName     LName   Age\n0    tom   reacher  25.0\n1  krish      pete  30.0\n2   nick    wilson  26.0\n3   juli  williams  22.0\n",
          "output_type": "stream"
        }
      ],
      "execution_count": 63
    },
    {
      "cell_type": "code",
      "source": "#importing pandas\nimport pandas as pd\n#list of dicts\ninput_df=[{'name':'Sujeet', 'age':10},\n        {'name':'Sameer', 'age':11},\n        {'name':'Sumit', 'age':12}]\n\ndf=pd.DataFrame(input_df)\nprint('Original DataFrame:\\n', df)\nprint('\\nRows iterated using iterrows() :')\nfor index, row in df.iterrows():\n    print(row['name'], row['age'])",
      "metadata": {
        "trusted": true
      },
      "outputs": [
        {
          "name": "stdout",
          "text": "Original DataFrame:\n      name  age\n0  Sujeet   10\n1  Sameer   11\n2   Sumit   12\n\nRows iterated using iterrows() :\nSujeet 10\nSameer 11\nSumit 12\n",
          "output_type": "stream"
        }
      ],
      "execution_count": 38
    },
    {
      "cell_type": "code",
      "source": "#importing pandas\nimport pandas as pd\n#list of dicts\ninput_df=[{'name':'Sujeet', 'age':10},\n        {'name':'Sameer', 'age':110},\n        {'name':'Sumit', 'age':120}]\n\ndf=pd.DataFrame(input_df)\nprint('Original DataFrame:\\n', df)\nprint('\\nRows iterated using itertuples() :')\nfor row in df.itertuples():\n    print(getattr(row, 'name'), getattr(row, 'age'))",
      "metadata": {
        "trusted": true
      },
      "outputs": [
        {
          "name": "stdout",
          "text": "Original DataFrame:\n      name  age\n0  Sujeet   10\n1  Sameer  110\n2   Sumit  120\n\nRows iterated using itertuples() :\nSujeet 10\nSameer 110\nSumit 120\n",
          "output_type": "stream"
        }
      ],
      "execution_count": 40
    },
    {
      "cell_type": "code",
      "source": "#importing pandas\nimport pandas as pd\n#Define a dictionary containing employee data\ndata = {'Name':['Jai', 'Princi', 'Gaurav', 'Anuj'], \n        'Age':[27, 24, 22, 32], \n        'Address':['Delhi', 'Kanpur', 'Allahabad', 'Kannauj'], \n        'Qualification':['Msc', 'Ma', 'MCA', 'phd']}\n#Convert the dictionary into DataFrame\ndf = pd.DataFrame(data)\ndf",
      "metadata": {
        "trusted": true
      },
      "outputs": [
        {
          "execution_count": 75,
          "output_type": "execute_result",
          "data": {
            "text/plain": "     Name  Age    Address Qualification\n0     Jai   27      Delhi           Msc\n1  Princi   24     Kanpur            Ma\n2  Gaurav   22  Allahabad           MCA\n3    Anuj   32    Kannauj           phd",
            "text/html": "<div>\n<style scoped>\n    .dataframe tbody tr th:only-of-type {\n        vertical-align: middle;\n    }\n\n    .dataframe tbody tr th {\n        vertical-align: top;\n    }\n\n    .dataframe thead th {\n        text-align: right;\n    }\n</style>\n<table border=\"1\" class=\"dataframe\">\n  <thead>\n    <tr style=\"text-align: right;\">\n      <th></th>\n      <th>Name</th>\n      <th>Age</th>\n      <th>Address</th>\n      <th>Qualification</th>\n    </tr>\n  </thead>\n  <tbody>\n    <tr>\n      <th>0</th>\n      <td>Jai</td>\n      <td>27</td>\n      <td>Delhi</td>\n      <td>Msc</td>\n    </tr>\n    <tr>\n      <th>1</th>\n      <td>Princi</td>\n      <td>24</td>\n      <td>Kanpur</td>\n      <td>Ma</td>\n    </tr>\n    <tr>\n      <th>2</th>\n      <td>Gaurav</td>\n      <td>22</td>\n      <td>Allahabad</td>\n      <td>MCA</td>\n    </tr>\n    <tr>\n      <th>3</th>\n      <td>Anuj</td>\n      <td>32</td>\n      <td>Kannauj</td>\n      <td>phd</td>\n    </tr>\n  </tbody>\n</table>\n</div>"
          },
          "metadata": {}
        }
      ],
      "execution_count": 75
    },
    {
      "cell_type": "code",
      "source": "#select three rows and two columns\nprint(df.loc[1:2, ['Name', 'Qualification']])",
      "metadata": {
        "trusted": true
      },
      "outputs": [
        {
          "name": "stdout",
          "text": "     Name Qualification\n1  Princi            Ma\n2  Gaurav           MCA\n",
          "output_type": "stream"
        }
      ],
      "execution_count": 77
    },
    {
      "cell_type": "code",
      "source": "#importing pandas\nimport pandas as pd\n#Define a dictionary containing employee data\ndata = {'Name':['Jai', 'Princi', 'Gaurav', 'Anuj'], \n        'Age':[27, 24, 22, 32], \n        'Address':['Delhi', 'Kanpur', 'Allahabad', 'Kannauj'], \n        'Qualification':['Msc', 'Ma', 'MCA', 'phd']}\n#Convert the dictionary into DataFrame\ndf = pd.DataFrame(data)\n#.loc DataFrame method\n#filtering rows and selecting columns by label format\n#df.loc[rows, colums]\n#row 1, all columns\nprint(df.loc[3])",
      "metadata": {
        "trusted": true
      },
      "outputs": [
        {
          "name": "stdout",
          "text": "Name                Anuj\nAge                   32\nAddress          Kannauj\nQualification        phd\nName: 3, dtype: object\n",
          "output_type": "stream"
        }
      ],
      "execution_count": 81
    },
    {
      "cell_type": "code",
      "source": "",
      "metadata": {
        "trusted": true
      },
      "outputs": [],
      "execution_count": null
    }
  ]
}